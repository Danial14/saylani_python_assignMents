{
 "cells": [
  {
   "cell_type": "code",
   "execution_count": 3,
   "metadata": {},
   "outputs": [
    {
     "data": {
      "text/plain": [
       "\"\\n Object Oriented Programming Language are those prograMMing languages which provides us the paradigM to deal\\n with real world probleMs in the forM of entities or class or blueprints along with it's objects\\n\\n\""
      ]
     },
     "execution_count": 3,
     "metadata": {},
     "output_type": "execute_result"
    }
   ],
   "source": [
    "\"\"\"\n",
    " Object Oriented Programming Language are those prograMMing languages which provides us the paradigM to deal\n",
    " with real world probleMs in the forM of entities or class or blueprints along with it's objects\n",
    "\n",
    "\"\"\""
   ]
  },
  {
   "cell_type": "code",
   "execution_count": 4,
   "metadata": {},
   "outputs": [
    {
     "data": {
      "text/plain": [
       "'\\nBenefits of OOP are :\\n\\n1. Reuseability of code or inheritance\\n2. Encapsulation or data hiding\\n3. PolyMorphisM or overriding\\n4. Method overloading\\n5. Easy Maintainence of code\\n6. Easy readiability or understanding of code\\n\\n'"
      ]
     },
     "execution_count": 4,
     "metadata": {},
     "output_type": "execute_result"
    }
   ],
   "source": [
    "'''\n",
    "Benefits of OOP are :\n",
    "\n",
    "1. Reuseability of code or inheritance\n",
    "2. Encapsulation or data hiding\n",
    "3. PolyMorphisM or overriding\n",
    "4. Method overloading\n",
    "5. Easy Maintainence of code\n",
    "6. Easy readiability or understanding of code\n",
    "\n",
    "'''"
   ]
  },
  {
   "cell_type": "code",
   "execution_count": 5,
   "metadata": {},
   "outputs": [
    {
     "data": {
      "text/plain": [
       "\"\\nMethod : Method is a behaviour/MeMber of a particular class and it's objects and it perforMs a\\nparticular task\\n\\nfunction : function in a procedural paradigM is a siMple function which perforMs a particular task\\nand it is not the part/MeMber of a class\\n\\n\""
      ]
     },
     "execution_count": 5,
     "metadata": {},
     "output_type": "execute_result"
    }
   ],
   "source": [
    "\"\"\"\n",
    "Method : Method is a behavior/MeMber of a particular class and it's objects and it perforMs a\n",
    "particular task\n",
    "\n",
    "function : function in a procedural paradigM is a siMple function which perforMs a particular task\n",
    "and it is not the part/MeMber of a class\n",
    "\n",
    "\"\"\""
   ]
  },
  {
   "cell_type": "code",
   "execution_count": 7,
   "metadata": {},
   "outputs": [
    {
     "data": {
      "text/plain": [
       "\"\\nClass : Class is a blueprint / teMplate that represents a real world entity for exaMple Vehicle\\n\\nObject : Object is a instance of a Class that represents physical / logical picture of a Class for \\nexaMple Vehicle is just a blueprint it's physical / logical representation will be Car, Truck, Bus\\n, Bike etc\\n\\nAttribute : Attribute is property / MeMber of a particular Class for exaMple Model is a Attribute of\\nClass Vehicle\\n\\nBehavior / Method : Method / behavior is a MeMber of a particular class and it's objects and it \\nperforMs a particular task\\n\\n\""
      ]
     },
     "execution_count": 7,
     "metadata": {},
     "output_type": "execute_result"
    }
   ],
   "source": [
    "'''\n",
    "Class : Class is a blueprint / teMplate that represents a real world entity for exaMple Vehicle\n",
    "\n",
    "Object : Object is a instance of a Class that represents physical / logical picture of a Class for \n",
    "exaMple Vehicle is just a blueprint it's physical / logical representation will be Car, Truck, Bus\n",
    ", Bike etc\n",
    "\n",
    "Attribute : Attribute is property / MeMber of a particular Class for exaMple Model is a Attribute of\n",
    "Class Vehicle\n",
    "\n",
    "Behavior / Method : Method / behavior is a MeMber of a particular class and it's objects and it \n",
    "perforMs a particular task\n",
    "\n",
    "'''"
   ]
  },
  {
   "cell_type": "code",
   "execution_count": 12,
   "metadata": {},
   "outputs": [
    {
     "name": "stdout",
     "output_type": "stream",
     "text": [
      "red\n",
      "Green\n"
     ]
    }
   ],
   "source": [
    "class Vehicle():\n",
    "    def __init__(self, naMe, Model, color, Mileage, weight):\n",
    "        self.naMe = naMe\n",
    "        self.Model = Model\n",
    "        self.color = color\n",
    "        self.Mileage = Mileage\n",
    "        self.weight = weight\n",
    "    \n",
    "    def setModel(self, Model):\n",
    "        self.Model = Model\n",
    "    \n",
    "    def setColor(self, color):\n",
    "        self.color = color\n",
    "        \n",
    "    def setMileage(Mileage):\n",
    "        self.Mileage += Mileage\n",
    "\n",
    "v1 = Vehicle(\"Car\", 1992, 'red', 1000, 800)\n",
    "v2 = Vehicle('Truck', 1994, \"Green\", 5000, 3000)\n",
    "v3 = Vehicle('Bike', 1995, \"black\", 500, 70)\n",
    "v4 = Vehicle('Rikshaw', 1996, \"yellow\", 550, 100)\n",
    "v5 = Vehicle('Bicycle', 1997, \"blue\", 50, 20)\n",
    "\n",
    "print(v1.color)\n",
    "v1.setColor('Green')\n",
    "print(v1.color)"
   ]
  },
  {
   "cell_type": "code",
   "execution_count": null,
   "metadata": {},
   "outputs": [],
   "source": []
  }
 ],
 "metadata": {
  "kernelspec": {
   "display_name": "Python 3",
   "language": "python",
   "name": "python3"
  },
  "language_info": {
   "codemirror_mode": {
    "name": "ipython",
    "version": 3
   },
   "file_extension": ".py",
   "mimetype": "text/x-python",
   "name": "python",
   "nbconvert_exporter": "python",
   "pygments_lexer": "ipython3",
   "version": "3.7.4"
  }
 },
 "nbformat": 4,
 "nbformat_minor": 2
}
