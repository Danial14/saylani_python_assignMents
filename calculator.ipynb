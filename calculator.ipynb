{
 "cells": [
  {
   "cell_type": "code",
   "execution_count": 11,
   "metadata": {},
   "outputs": [
    {
     "name": "stdout",
     "output_type": "stream",
     "text": [
      "Enter first value 2\n",
      "Enter operator +\n",
      "Enter second value 3.13\n",
      "5.13\n"
     ]
    }
   ],
   "source": [
    "valOne = float(input(\"Enter first value \"))\n",
    "operator = input(\"Enter operator \")\n",
    "valTwo = float(input(\"Enter second value \"))\n",
    "if operator == \"+\":\n",
    "    print(valOne + valTwo)\n",
    "elif operator == \"-\":\n",
    "    print(valOne - valTwo)\n",
    "elif operator == '*':\n",
    "    print(valOne * valTwo)\n",
    "elif operator == '/':\n",
    "    print(valOne / valTwo)\n",
    "elif operator == \"^\":\n",
    "    print(valOne ** valTwo)\n",
    "else:\n",
    "    print(\"Plese enter valid operator\")"
   ]
  },
  {
   "cell_type": "code",
   "execution_count": null,
   "metadata": {},
   "outputs": [],
   "source": []
  },
  {
   "cell_type": "code",
   "execution_count": null,
   "metadata": {},
   "outputs": [],
   "source": []
  }
 ],
 "metadata": {
  "kernelspec": {
   "display_name": "Python 3",
   "language": "python",
   "name": "python3"
  },
  "language_info": {
   "codemirror_mode": {
    "name": "ipython",
    "version": 3
   },
   "file_extension": ".py",
   "mimetype": "text/x-python",
   "name": "python",
   "nbconvert_exporter": "python",
   "pygments_lexer": "ipython3",
   "version": "3.7.4"
  }
 },
 "nbformat": 4,
 "nbformat_minor": 2
}
