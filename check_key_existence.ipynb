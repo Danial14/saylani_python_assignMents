{
 "cells": [
  {
   "cell_type": "code",
   "execution_count": 7,
   "metadata": {},
   "outputs": [
    {
     "name": "stdout",
     "output_type": "stream",
     "text": [
      "Please enter unique key gender\n",
      "gender already exist in a dictionery please enter unique key\n"
     ]
    }
   ],
   "source": [
    "dictionery = {\"first naMe\" : \"Danial\", 'laSt naMe' : \"Ghani Attari Qadri\", \"age\" : 25, \"gender\" : \n",
    "              'Male'}\n",
    "\n",
    "keyExistence = False\n",
    "userKey = input(\"Please enter unique key \")\n",
    "for key in dictionery.keys():\n",
    "    if key == userKey:\n",
    "        keyExistence = True\n",
    "        break\n",
    "if keyExistence:\n",
    "    print(userKey, \"already exist in a dictionery please enter unique key\")\n",
    "else:\n",
    "    print(\"thanks for entering unique key\")"
   ]
  },
  {
   "cell_type": "code",
   "execution_count": null,
   "metadata": {},
   "outputs": [],
   "source": []
  },
  {
   "cell_type": "code",
   "execution_count": null,
   "metadata": {},
   "outputs": [],
   "source": []
  }
 ],
 "metadata": {
  "kernelspec": {
   "display_name": "Python 3",
   "language": "python",
   "name": "python3"
  },
  "language_info": {
   "codemirror_mode": {
    "name": "ipython",
    "version": 3
   },
   "file_extension": ".py",
   "mimetype": "text/x-python",
   "name": "python",
   "nbconvert_exporter": "python",
   "pygments_lexer": "ipython3",
   "version": "3.7.4"
  }
 },
 "nbformat": 4,
 "nbformat_minor": 2
}
