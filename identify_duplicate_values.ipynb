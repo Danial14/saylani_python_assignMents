{
 "cells": [
  {
   "cell_type": "code",
   "execution_count": 3,
   "metadata": {},
   "outputs": [
    {
     "name": "stdout",
     "output_type": "stream",
     "text": [
      "duplicates in list are\n",
      "1\n",
      "Danial\n"
     ]
    }
   ],
   "source": [
    "list = [1, \"String\", \"StrIng\", 1, \"Danial\", 2.45, \"Danial\", 12]\n",
    "duplicates = []\n",
    "print(\"duplicates in list are\")\n",
    "for i in list:\n",
    "    if duplicates.count(i) > 0:\n",
    "        continue\n",
    "    elif list.count(i) > 1:\n",
    "        duplicates.append(i)\n",
    "        print(i)"
   ]
  },
  {
   "cell_type": "code",
   "execution_count": null,
   "metadata": {},
   "outputs": [],
   "source": []
  }
 ],
 "metadata": {
  "kernelspec": {
   "display_name": "Python 3",
   "language": "python",
   "name": "python3"
  },
  "language_info": {
   "codemirror_mode": {
    "name": "ipython",
    "version": 3
   },
   "file_extension": ".py",
   "mimetype": "text/x-python",
   "name": "python",
   "nbconvert_exporter": "python",
   "pygments_lexer": "ipython3",
   "version": "3.7.4"
  }
 },
 "nbformat": 4,
 "nbformat_minor": 2
}
