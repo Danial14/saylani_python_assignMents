{
 "cells": [
  {
   "cell_type": "code",
   "execution_count": 2,
   "metadata": {},
   "outputs": [
    {
     "name": "stdout",
     "output_type": "stream",
     "text": [
      "1 is a nuMeric value\n",
      "1 is a nuMeric value\n",
      "2.45 is a nuMeric value\n",
      "12 is a nuMeric value\n"
     ]
    }
   ],
   "source": [
    "list = [1, \"String\", \"StrIng\", 1, \"Danial\", 2.45, \"Danial\", 12]\n",
    "for i in list:\n",
    "    a = type(i)\n",
    "    if a == int or a == float:\n",
    "        print(i, \"is a nuMeric value\")"
   ]
  },
  {
   "cell_type": "code",
   "execution_count": null,
   "metadata": {},
   "outputs": [],
   "source": []
  }
 ],
 "metadata": {
  "kernelspec": {
   "display_name": "Python 3",
   "language": "python",
   "name": "python3"
  },
  "language_info": {
   "codemirror_mode": {
    "name": "ipython",
    "version": 3
   },
   "file_extension": ".py",
   "mimetype": "text/x-python",
   "name": "python",
   "nbconvert_exporter": "python",
   "pygments_lexer": "ipython3",
   "version": "3.7.4"
  }
 },
 "nbformat": 4,
 "nbformat_minor": 2
}
