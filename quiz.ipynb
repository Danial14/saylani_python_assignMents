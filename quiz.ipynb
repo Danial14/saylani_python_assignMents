{
 "cells": [
  {
   "cell_type": "code",
   "execution_count": 21,
   "metadata": {},
   "outputs": [
    {
     "name": "stdout",
     "output_type": "stream",
     "text": [
      "Write your answer in textbox\n",
      "\n",
      "Q.1. What is the naMe of your country\n",
      "Pakistan\n",
      "India\n",
      "China\n",
      "Saudi Arabia\n",
      "Pakistan\n",
      "\n",
      "Q.2. What is naMe of your city\n",
      "Lahore\n",
      "Karachi\n",
      "Peshawar\n",
      "IslaMabad\n",
      "Karachi\n",
      "\n",
      "Q.3. What is the capital of Pakistan\n",
      "IslaMabad\n",
      "Lahore\n",
      "Karachi\n",
      "Peshawar\n",
      "lahore\n",
      "\n",
      "\n",
      "Your score is 2\n",
      "Your percentage is 66.67%\n"
     ]
    }
   ],
   "source": [
    "import time\n",
    "questionBank = [\n",
    "    {\n",
    "        \"S.no\" : 1,\n",
    "        \"question\" : \"What is the naMe of your country\",\n",
    "        \"correct_answer\" : \"Pakistan\",\n",
    "        \"options\" : [\"Pakistan\", \"India\", \"China\", \"Saudi Arabia\"]\n",
    "    },\n",
    "    {\n",
    "        \"S.no\" : 2,\n",
    "        'question' : \"What is naMe of your city\",\n",
    "        \"correct_answer\" : \"Karachi\",\n",
    "        'options' : [\"Lahore\", 'Karachi', \"Peshawar\", \"IslaMabad\"]\n",
    "    },\n",
    "    {\n",
    "        'S.no' : 3,\n",
    "        \"question\" : 'What is the capital of Pakistan',\n",
    "        \"correct_answer\" : 'IslaMabad',\n",
    "        'options' : ['IslaMabad', \"Lahore\", 'Karachi', \"Peshawar\"]\n",
    "    }\n",
    "]\n",
    "userScore = 0\n",
    "print(\"Write your answer in textbox\")\n",
    "print()\n",
    "time.sleep(0.03)\n",
    "def displayOptions(options):\n",
    "    for j in options:\n",
    "        print(j)\n",
    "        \n",
    "for question in questionBank:\n",
    "    print(\"\"\"Q.{0}. {1}\"\"\".format(question[\"S.no\"], question[\"question\"]))\n",
    "    displayOptions(question[\"options\"])\n",
    "    userAnswer = input(\"\")\n",
    "    if userAnswer.lower() == question['correct_answer'].lower():\n",
    "        userScore += 1\n",
    "    print()\n",
    "\n",
    "userPercentage = userScore / len(questionBank) * 100\n",
    "userPercentage = \"{:.2f}\".format(userPercentage)\n",
    "print()\n",
    "print(\"\"\"Your score is {0}\n",
    "Your percentage is {1}%\"\"\".format(userScore, userPercentage))"
   ]
  },
  {
   "cell_type": "code",
   "execution_count": null,
   "metadata": {},
   "outputs": [],
   "source": []
  },
  {
   "cell_type": "code",
   "execution_count": null,
   "metadata": {},
   "outputs": [],
   "source": []
  }
 ],
 "metadata": {
  "kernelspec": {
   "display_name": "Python 3",
   "language": "python",
   "name": "python3"
  },
  "language_info": {
   "codemirror_mode": {
    "name": "ipython",
    "version": 3
   },
   "file_extension": ".py",
   "mimetype": "text/x-python",
   "name": "python",
   "nbconvert_exporter": "python",
   "pygments_lexer": "ipython3",
   "version": "3.7.4"
  }
 },
 "nbformat": 4,
 "nbformat_minor": 2
}
