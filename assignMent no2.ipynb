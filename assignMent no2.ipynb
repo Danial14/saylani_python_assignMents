{
 "cells": [
  {
   "cell_type": "code",
   "execution_count": 1,
   "metadata": {},
   "outputs": [
    {
     "name": "stdout",
     "output_type": "stream",
     "text": [
      "Enter MarkS of Maths : 75\n",
      "Enter MarkS of coMputer : 93\n",
      "Enter MarkS of english : 90\n",
      "Enter MarkS of cheMistry : 72.5\n",
      "Enter MarkS of physics : 70.3\n",
      "Student's percentage : 80.16%\n",
      "Student's grade : A\n"
     ]
    }
   ],
   "source": [
    "Maths_Marks = float(input(\"Enter MarkS of Maths : \"))\n",
    "coMputerMarks = float(input(\"Enter MarkS of coMputer : \"))\n",
    "englishMarks = float(input(\"Enter MarkS of english : \"))\n",
    "cheMistryMarks = float((input(\"Enter MarkS of cheMistry : \")))\n",
    "physicsMarks = float(input(\"Enter MarkS of physics : \"))\n",
    "\n",
    "totalMarks = Maths_Marks + coMputerMarks + englishMarks + cheMistryMarks + physicsMarks\n",
    "percentage = totalMarks / 500 * 100\n",
    "grade = ''\n",
    "\n",
    "if (percentage >= 90.0 and percentage <= 100.0):\n",
    "    grade = \"A-1\"\n",
    "    \n",
    "elif (percentage >= 80.0 and percentage < 90.0):\n",
    "    grade = 'A'\n",
    "    \n",
    "elif (percentage >= 70.0 and percentage < 80.0):\n",
    "    grade = \"B\"\n",
    "    \n",
    "elif (percentage >= 60.0 and percentage < 70.0):\n",
    "    grade = \"C\"\n",
    "    \n",
    "elif (percentage >= 50.0 and percentage < 60.0):\n",
    "    grade = \"D\"\n",
    "    \n",
    "else:\n",
    "    grade = \"F\"\n",
    "    \n",
    "percentage = round(percentage, 2)\n",
    "print(\"\"\"Student's percentage : {0}%\n",
    "Student's grade : {1}\"\"\".format(percentage, grade))"
   ]
  },
  {
   "cell_type": "code",
   "execution_count": 2,
   "metadata": {},
   "outputs": [
    {
     "name": "stdout",
     "output_type": "stream",
     "text": [
      "1200\n"
     ]
    }
   ],
   "source": [
    "list = [1, 6, -200, 500, 600, 120, 1200, 9, 78, 78, 111, 900]\n",
    "list.sort(reverse = True)\n",
    "print(list[0])"
   ]
  },
  {
   "cell_type": "code",
   "execution_count": 3,
   "metadata": {},
   "outputs": [
    {
     "name": "stdout",
     "output_type": "stream",
     "text": [
      "Enter any nuMber : 890\n",
      "The nuMber 890 is even\n"
     ]
    }
   ],
   "source": [
    "nuMber = float(input(\"Enter any nuMber : \"))\n",
    "nuMber = int(nuMber)\n",
    "\n",
    "if nuMber % 2 == 0:\n",
    "    print(\"The nuMber {0} is even\".format(nuMber))\n",
    "    \n",
    "else:\n",
    "    print(\"The nuMber {0} is odd\".format(nuMber))"
   ]
  },
  {
   "cell_type": "code",
   "execution_count": 4,
   "metadata": {},
   "outputs": [
    {
     "name": "stdout",
     "output_type": "stream",
     "text": [
      "4\n"
     ]
    }
   ],
   "source": [
    "print(len([12, True, \"String\", 25.5]))"
   ]
  },
  {
   "cell_type": "code",
   "execution_count": 5,
   "metadata": {},
   "outputs": [
    {
     "name": "stdout",
     "output_type": "stream",
     "text": [
      "24.8\n"
     ]
    }
   ],
   "source": [
    "list = [\"String\", True, 12, 10.8, 2]\n",
    "sum = 0\n",
    "\n",
    "for i in list:\n",
    "    if type(i) == int or type(i) == float:\n",
    "        sum += i\n",
    "\n",
    "print(sum)"
   ]
  },
  {
   "cell_type": "code",
   "execution_count": 6,
   "metadata": {},
   "outputs": [
    {
     "name": "stdout",
     "output_type": "stream",
     "text": [
      "0\n",
      "1\n",
      "2\n",
      "4\n",
      "4.99\n"
     ]
    }
   ],
   "source": [
    "list = [78, 90, 1000, 2, 10000, 123, 4.99, 6, 5, 4, 0, 1]\n",
    "list.sort()\n",
    "for i in list:\n",
    "    if i < 5:\n",
    "        print(i)\n",
    "    \n",
    "    else:\n",
    "        break"
   ]
  },
  {
   "cell_type": "code",
   "execution_count": null,
   "metadata": {},
   "outputs": [],
   "source": []
  }
 ],
 "metadata": {
  "kernelspec": {
   "display_name": "Python 3",
   "language": "python",
   "name": "python3"
  },
  "language_info": {
   "codemirror_mode": {
    "name": "ipython",
    "version": 3
   },
   "file_extension": ".py",
   "mimetype": "text/x-python",
   "name": "python",
   "nbconvert_exporter": "python",
   "pygments_lexer": "ipython3",
   "version": "3.7.4"
  }
 },
 "nbformat": 4,
 "nbformat_minor": 2
}
