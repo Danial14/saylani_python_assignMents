{
 "cells": [
  {
   "cell_type": "code",
   "execution_count": 19,
   "metadata": {},
   "outputs": [
    {
     "name": "stdout",
     "output_type": "stream",
     "text": [
      "Enter any nuMber : 890.78\n",
      "The nuMber 890 is even\n"
     ]
    }
   ],
   "source": [
    "nuMber = float(input(\"Enter any nuMber : \"))\n",
    "nuMber = int(nuMber)\n",
    "\n",
    "if nuMber % 2 == 0:\n",
    "    print(\"The nuMber {0} is even\".format(nuMber))\n",
    "    \n",
    "else:\n",
    "    print(\"The nuMber {0} is odd\".format(nuMber))"
   ]
  },
  {
   "cell_type": "code",
   "execution_count": null,
   "metadata": {},
   "outputs": [],
   "source": []
  },
  {
   "cell_type": "code",
   "execution_count": null,
   "metadata": {},
   "outputs": [],
   "source": []
  }
 ],
 "metadata": {
  "kernelspec": {
   "display_name": "Python 3",
   "language": "python",
   "name": "python3"
  },
  "language_info": {
   "codemirror_mode": {
    "name": "ipython",
    "version": 3
   },
   "file_extension": ".py",
   "mimetype": "text/x-python",
   "name": "python",
   "nbconvert_exporter": "python",
   "pygments_lexer": "ipython3",
   "version": "3.7.4"
  }
 },
 "nbformat": 4,
 "nbformat_minor": 2
}
