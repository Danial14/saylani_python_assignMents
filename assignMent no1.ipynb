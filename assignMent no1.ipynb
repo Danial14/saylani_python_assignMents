{
 "cells": [
  {
   "cell_type": "code",
   "execution_count": 1,
   "metadata": {},
   "outputs": [
    {
     "name": "stdout",
     "output_type": "stream",
     "text": [
      "Enter first nuMber 5\n",
      "Enter second nuMber 6\n",
      "11\n"
     ]
    }
   ],
   "source": [
    "nuM1 = int(input(\"Enter first nuMber \"))\n",
    "nuM2 = int(input('Enter second nuMber '))\n",
    "print(nuM1 + nuM2)"
   ]
  },
  {
   "cell_type": "code",
   "execution_count": 2,
   "metadata": {},
   "outputs": [
    {
     "name": "stdout",
     "output_type": "stream",
     "text": [
      "Enter radius of circle 4\n",
      "50.24\n"
     ]
    }
   ],
   "source": [
    "radiusOfCircle = float(input(\"Enter radius of circle \"))\n",
    "areaOfCircle = 3.14 * radiusOfCircle ** 2\n",
    "print(areaOfCircle)"
   ]
  },
  {
   "cell_type": "code",
   "execution_count": 3,
   "metadata": {},
   "outputs": [
    {
     "name": "stdout",
     "output_type": "stream",
     "text": [
      "2019-11-23 12:13:58.660742\n"
     ]
    }
   ],
   "source": [
    "from datetime import datetime\n",
    "print(datetime.now())"
   ]
  },
  {
   "cell_type": "code",
   "execution_count": 4,
   "metadata": {},
   "outputs": [
    {
     "name": "stdout",
     "output_type": "stream",
     "text": [
      "Twinkle, twinkle, little star,\n",
      "               How I wonder what you are!\n",
      "                     Up above the world so high,\n",
      "                     Like a diamond in the sky.\n",
      "         Twinkle, twinkle, little star,\n",
      "               How I wonder what you are\n"
     ]
    }
   ],
   "source": [
    "print(\"\"\"Twinkle, twinkle, little star,\n",
    "               How I wonder what you are!\n",
    "                     Up above the world so high,\n",
    "                     Like a diamond in the sky.\n",
    "         Twinkle, twinkle, little star,\n",
    "               How I wonder what you are\"\"\")"
   ]
  },
  {
   "cell_type": "code",
   "execution_count": 5,
   "metadata": {},
   "outputs": [
    {
     "name": "stdout",
     "output_type": "stream",
     "text": [
      "3.7.4\n"
     ]
    }
   ],
   "source": [
    "import platform\n",
    "print(platform.python_version())"
   ]
  },
  {
   "cell_type": "code",
   "execution_count": 7,
   "metadata": {},
   "outputs": [
    {
     "name": "stdout",
     "output_type": "stream",
     "text": [
      "Enter your first naMe Danial\n",
      "Enter your last naMe Ghani\n",
      "lainaD inahG\n"
     ]
    }
   ],
   "source": [
    "firstNaMe = input(\"Enter your first naMe \")\n",
    "lastNaMe = input(\"Enter your last naMe \")\n",
    "print(firstNaMe[::-1] + \" \" + lastNaMe[::-1])"
   ]
  },
  {
   "cell_type": "code",
   "execution_count": null,
   "metadata": {},
   "outputs": [],
   "source": []
  }
 ],
 "metadata": {
  "kernelspec": {
   "display_name": "Python 3",
   "language": "python",
   "name": "python3"
  },
  "language_info": {
   "codemirror_mode": {
    "name": "ipython",
    "version": 3
   },
   "file_extension": ".py",
   "mimetype": "text/x-python",
   "name": "python",
   "nbconvert_exporter": "python",
   "pygments_lexer": "ipython3",
   "version": "3.7.4"
  }
 },
 "nbformat": 4,
 "nbformat_minor": 2
}
