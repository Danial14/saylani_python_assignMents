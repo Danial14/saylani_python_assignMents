{
 "cells": [
  {
   "cell_type": "code",
   "execution_count": 5,
   "metadata": {},
   "outputs": [
    {
     "name": "stdout",
     "output_type": "stream",
     "text": [
      "Factorial of 5 is 120\n"
     ]
    }
   ],
   "source": [
    "def calculateFactorial(nuMber):\n",
    "    if nuMber < 0:\n",
    "        print(\"Please give positive nuMber\")\n",
    "    else:\n",
    "        fact = 1\n",
    "        for i in range(1, nuMber + 1):\n",
    "            fact = i * fact\n",
    "        print(\"Factorial of {0} is {1}\".format(nuMber, fact))\n",
    "\n",
    "calculateFactorial(5)"
   ]
  },
  {
   "cell_type": "code",
   "execution_count": 6,
   "metadata": {},
   "outputs": [
    {
     "name": "stdout",
     "output_type": "stream",
     "text": [
      "12 is a even nuMber\n",
      "6 is a even nuMber\n",
      "78 is a even nuMber\n"
     ]
    }
   ],
   "source": [
    "nuMbers = [1, 5, 12, 7, 11, 6, 78, 65]\n",
    "for j in nuMbers:\n",
    "    if j % 2 == 0:\n",
    "        print(\"{0} is a even nuMber\".format(j))"
   ]
  },
  {
   "cell_type": "code",
   "execution_count": 39,
   "metadata": {},
   "outputs": [
    {
     "name": "stdout",
     "output_type": "stream",
     "text": [
      "MadaM is a palindroMe word\n"
     ]
    }
   ],
   "source": [
    "def checkPalindroMe(word):\n",
    "    teMpWord = word.upper()\n",
    "    palindroMe = True\n",
    "    wordLength = len(teMpWord)\n",
    "    loopLiMit = 0\n",
    "    counter = 1\n",
    "    loopLiMit = int(wordLength / 2)\n",
    "    \n",
    "    for i in range(0, loopLiMit):\n",
    "            if word[i] != (word[wordLength - counter]):\n",
    "                palindroMe = False\n",
    "                print(word + \" is not a palindroMe word\")\n",
    "                break\n",
    "            counter += 1\n",
    "    \n",
    "    if palindroMe:\n",
    "        print(word + \" is a palindroMe word\")\n",
    "        \n",
    "checkPalindroMe(\"MadaM\")"
   ]
  },
  {
   "cell_type": "code",
   "execution_count": 3,
   "metadata": {},
   "outputs": [
    {
     "name": "stdout",
     "output_type": "stream",
     "text": [
      "You bought these iteMs\n",
      "kurta\n",
      "Etar\n",
      "Misvak\n",
      "Chicken Meat 3Kg\n",
      "Potato 2Kg\n"
     ]
    }
   ],
   "source": [
    "def displayIteMs(*iteMsBought):\n",
    "    print(\"You bought these iteMs\")\n",
    "    for iteM in iteMsBought:\n",
    "        print(iteM)\n",
    "\n",
    "displayIteMs(\"kurta\", 'Etar', \"Misvak\", 'Chicken Meat 3Kg', \"Potato 2Kg\")"
   ]
  },
  {
   "cell_type": "code",
   "execution_count": 42,
   "metadata": {},
   "outputs": [
    {
     "name": "stdout",
     "output_type": "stream",
     "text": [
      "12 is not a priMe nuMber\n"
     ]
    }
   ],
   "source": [
    "def checkPriMeNuMber(nuMber):\n",
    "    nuMber = int(nuMber)\n",
    "    priMeNuMberStatus = True\n",
    "    \n",
    "    if nuMber == 1:\n",
    "        print(\"{0} is not a priMe nuMber\".format(nuMber))\n",
    "        return\n",
    "        \n",
    "    else:\n",
    "        if nuMber != 2:\n",
    "            for i in range(2, nuMber):\n",
    "                if nuMber % i == 0:\n",
    "                    priMeNuMberStatus = False\n",
    "                    print(\"{0} is not a priMe nuMber\".format(nuMber))\n",
    "                    break\n",
    "    \n",
    "    if priMeNuMberStatus:\n",
    "        print('{0} is a priMe nuMber'.format(nuMber))\n",
    "        \n",
    "b = checkPriMeNuMber(12)"
   ]
  },
  {
   "cell_type": "code",
   "execution_count": 7,
   "metadata": {},
   "outputs": [
    {
     "name": "stdout",
     "output_type": "stream",
     "text": [
      "Total upper case letter are 2\n",
      "Total lower case letter are 4\n"
     ]
    }
   ],
   "source": [
    "def calculateUpperAndLowerCaseLetter(word):\n",
    "    upperCaseLetter = 0\n",
    "    lowerCaseLetter = 0\n",
    "    for i in word:\n",
    "        code = ord(i)\n",
    "        if code >= 65 and code <= 90:\n",
    "            upperCaseLetter += 1\n",
    "        \n",
    "        elif code >= 97 and code <= 122:\n",
    "            lowerCaseLetter += 1\n",
    "    print(\"Total upper case letter are {0}\\nTotal lower case letter are {1}\".format(upperCaseLetter, lowerCaseLetter))\n",
    "calculateUpperAndLowerCaseLetter(\"DaniAl\")"
   ]
  },
  {
   "cell_type": "code",
   "execution_count": null,
   "metadata": {},
   "outputs": [],
   "source": []
  }
 ],
 "metadata": {
  "kernelspec": {
   "display_name": "Python 3",
   "language": "python",
   "name": "python3"
  },
  "language_info": {
   "codemirror_mode": {
    "name": "ipython",
    "version": 3
   },
   "file_extension": ".py",
   "mimetype": "text/x-python",
   "name": "python",
   "nbconvert_exporter": "python",
   "pygments_lexer": "ipython3",
   "version": "3.7.4"
  }
 },
 "nbformat": 4,
 "nbformat_minor": 2
}
