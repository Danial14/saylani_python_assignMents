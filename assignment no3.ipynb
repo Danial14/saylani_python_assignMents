{
 "cells": [
  {
   "cell_type": "code",
   "execution_count": 1,
   "metadata": {},
   "outputs": [
    {
     "name": "stdout",
     "output_type": "stream",
     "text": [
      "16\n"
     ]
    }
   ],
   "source": [
    "dictionery = {\"One\" : 1, 'Two' : \"2\", \"Three\" : 3, 12 : 12}\n",
    "SuM = 0\n",
    "for value in dictionery.values():\n",
    "    if type(value) == int:\n",
    "        SuM += value\n",
    "print(SuM)"
   ]
  },
  {
   "cell_type": "code",
   "execution_count": 2,
   "metadata": {},
   "outputs": [
    {
     "name": "stdout",
     "output_type": "stream",
     "text": [
      "{'1': 1, 2: '2'}\n",
      "{'1': 1, 2: '2', 3: 3, '4': '4'}\n"
     ]
    }
   ],
   "source": [
    "dictionery = {'1' : 1, 2 : \"2\"}\n",
    "print(dictionery)\n",
    "dictionery[3] = 3\n",
    "dictionery['4'] = \"4\"\n",
    "print(dictionery)"
   ]
  },
  {
   "cell_type": "code",
   "execution_count": 3,
   "metadata": {},
   "outputs": [
    {
     "name": "stdout",
     "output_type": "stream",
     "text": [
      "1 is a nuMeric value\n",
      "1 is a nuMeric value\n",
      "2.45 is a nuMeric value\n",
      "12 is a nuMeric value\n"
     ]
    }
   ],
   "source": [
    "list = [1, \"String\", \"StrIng\", 1, \"Danial\", 2.45, \"Danial\", 12]\n",
    "for i in list:\n",
    "    a = type(i)\n",
    "    if a == int or a == float:\n",
    "        print(i, \"is a nuMeric value\")"
   ]
  },
  {
   "cell_type": "code",
   "execution_count": 4,
   "metadata": {},
   "outputs": [
    {
     "name": "stdout",
     "output_type": "stream",
     "text": [
      "Enter first value 2\n",
      "Enter operator +\n",
      "Enter second value 3.13\n",
      "5.13\n"
     ]
    }
   ],
   "source": [
    "valOne = float(input(\"Enter first value \"))\n",
    "operator = input(\"Enter operator \")\n",
    "valTwo = float(input(\"Enter second value \"))\n",
    "if operator == \"+\":\n",
    "    print(valOne + valTwo)\n",
    "elif operator == \"-\":\n",
    "    print(valOne - valTwo)\n",
    "elif operator == '*':\n",
    "    print(valOne * valTwo)\n",
    "elif operator == '/':\n",
    "    print(valOne / valTwo)\n",
    "elif operator == \"^\":\n",
    "    print(valOne ** valTwo)\n",
    "else:\n",
    "    print(\"Plese enter valid operator\")"
   ]
  },
  {
   "cell_type": "code",
   "execution_count": 5,
   "metadata": {},
   "outputs": [
    {
     "name": "stdout",
     "output_type": "stream",
     "text": [
      "Please enter unique key gender\n",
      "gender already exist in a dictionery please enter unique key\n"
     ]
    }
   ],
   "source": [
    "dictionery = {\"first naMe\" : \"Danial\", 'laSt naMe' : \"Ghani Attari Qadri\", \"age\" : 25, \"gender\" : \n",
    "              'Male'}\n",
    "\n",
    "keyExistence = False\n",
    "userKey = input(\"Please enter unique key \")\n",
    "for key in dictionery.keys():\n",
    "    if key == userKey:\n",
    "        keyExistence = True\n",
    "        break\n",
    "if keyExistence:\n",
    "    print(userKey, \"already exist in a dictionery please enter unique key\")\n",
    "else:\n",
    "    print(\"thanks for entering unique key\")"
   ]
  },
  {
   "cell_type": "code",
   "execution_count": 6,
   "metadata": {},
   "outputs": [
    {
     "name": "stdout",
     "output_type": "stream",
     "text": [
      "duplicates in list are\n",
      "1\n",
      "Danial\n"
     ]
    }
   ],
   "source": [
    "list = [1, \"String\", \"StrIng\", 1, \"Danial\", 2.45, \"Danial\", 12]\n",
    "duplicates = []\n",
    "print(\"duplicates in list are\")\n",
    "for i in list:\n",
    "    if duplicates.count(i) > 0:\n",
    "        continue\n",
    "    elif list.count(i) > 1:\n",
    "        duplicates.append(i)\n",
    "        print(i)"
   ]
  },
  {
   "cell_type": "code",
   "execution_count": null,
   "metadata": {},
   "outputs": [],
   "source": []
  }
 ],
 "metadata": {
  "kernelspec": {
   "display_name": "Python 3",
   "language": "python",
   "name": "python3"
  },
  "language_info": {
   "codemirror_mode": {
    "name": "ipython",
    "version": 3
   },
   "file_extension": ".py",
   "mimetype": "text/x-python",
   "name": "python",
   "nbconvert_exporter": "python",
   "pygments_lexer": "ipython3",
   "version": "3.7.4"
  }
 },
 "nbformat": 4,
 "nbformat_minor": 2
}
