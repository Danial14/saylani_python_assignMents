{
 "cells": [
  {
   "cell_type": "code",
   "execution_count": 6,
   "metadata": {},
   "outputs": [
    {
     "name": "stdout",
     "output_type": "stream",
     "text": [
      "Enter MarkS of Maths : 75\n",
      "Enter MarkS of coMputer : 93\n",
      "Enter MarkS of english : 90\n",
      "Enter MarkS of cheMistry : 72.5\n",
      "Enter MarkS of physics : 70.3\n",
      "Student's percentage : 80.16%\n",
      "Student's grade : A\n"
     ]
    }
   ],
   "source": [
    "Maths_Marks = float(input(\"Enter MarkS of Maths : \"))\n",
    "coMputerMarks = float(input(\"Enter MarkS of coMputer : \"))\n",
    "englishMarks = float(input(\"Enter MarkS of english : \"))\n",
    "cheMistryMarks = float((input(\"Enter MarkS of cheMistry : \")))\n",
    "physicsMarks = float(input(\"Enter MarkS of physics : \"))\n",
    "\n",
    "totalMarks = Maths_Marks + coMputerMarks + englishMarks + cheMistryMarks + physicsMarks\n",
    "percentage = totalMarks / 500 * 100\n",
    "grade = ''\n",
    "\n",
    "if (percentage >= 90.0 and percentage <= 100.0):\n",
    "    grade = \"A-1\"\n",
    "    \n",
    "elif (percentage >= 80.0 and percentage < 90.0):\n",
    "    grade = 'A'\n",
    "    \n",
    "elif (percentage >= 70.0 and percentage < 80.0):\n",
    "    grade = \"B\"\n",
    "    \n",
    "elif (percentage >= 60.0 and percentage < 70.0):\n",
    "    grade = \"C\"\n",
    "    \n",
    "elif (percentage >= 50.0 and percentage < 60.0):\n",
    "    grade = \"D\"\n",
    "    \n",
    "else:\n",
    "    grade = \"F\"\n",
    "    \n",
    "percentage = round(percentage, 2)\n",
    "print(\"\"\"Student's percentage : {0}%\n",
    "Student's grade : {1}\"\"\".format(percentage, grade))"
   ]
  },
  {
   "cell_type": "code",
   "execution_count": null,
   "metadata": {},
   "outputs": [],
   "source": []
  },
  {
   "cell_type": "code",
   "execution_count": null,
   "metadata": {},
   "outputs": [],
   "source": []
  }
 ],
 "metadata": {
  "kernelspec": {
   "display_name": "Python 3",
   "language": "python",
   "name": "python3"
  },
  "language_info": {
   "codemirror_mode": {
    "name": "ipython",
    "version": 3
   },
   "file_extension": ".py",
   "mimetype": "text/x-python",
   "name": "python",
   "nbconvert_exporter": "python",
   "pygments_lexer": "ipython3",
   "version": "3.7.4"
  }
 },
 "nbformat": 4,
 "nbformat_minor": 2
}
